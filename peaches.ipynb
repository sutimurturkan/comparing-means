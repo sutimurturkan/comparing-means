{
  "nbformat": 4,
  "nbformat_minor": 5,
  "metadata": {
    "colab": {
      "name": "StatsFinal-2.ipynb",
      "provenance": [],
      "collapsed_sections": [
        "AOiKCJJRZbEX",
        "COubiYX8jUBC",
        "xRk2SjnapGHg",
        "R4Ph4x12snF9",
        "QRAxK5lM4Lli"
      ]
    },
    "language_info": {
      "name": "python"
    },
    "kernelspec": {
      "name": "python3",
      "display_name": "Python 3"
    }
  },
  "cells": [
    {
      "cell_type": "markdown",
      "metadata": {
        "id": "R4Ph4x12snF9"
      },
      "source": [
        "# 4. COMPARING MEANS OF DIFFERENT POPULATIONS"
      ],
      "id": "R4Ph4x12snF9"
    },
    {
      "cell_type": "markdown",
      "metadata": {
        "id": "1ylfPXQoO6oX"
      },
      "source": [
        "There are 2 varieties of terrestrial peach: Georgia peach and Yangshan peach. We want a very specific idea of the expected yield from both. We will check if there is not great difference between the expected yields."
      ],
      "id": "1ylfPXQoO6oX"
    },
    {
      "cell_type": "markdown",
      "metadata": {
        "id": "9LDol2t6O5VN"
      },
      "source": [
        "The comparison of two independent population means is a common practice to test the hypothesis that the two populations differ from each other. \n",
        "\n",
        "Let's assume that x̄ (Georgia) and ȳ (Yangshan) are the means of two populations of size $n_x$ (500) and $n_y$ (300) respectively. If x and y are normal or sizes are sufficiently large for the Central Limit Theorem to hold, then x̄ – ȳ has a normal distribution with mean μx – μy and standard deviation:\n"
      ],
      "id": "9LDol2t6O5VN"
    },
    {
      "cell_type": "markdown",
      "metadata": {
        "id": "MyvGL9BFQ5T9"
      },
      "source": [
        "![image.png](data:image/png;base64,iVBORw0KGgoAAAANSUhEUgAAAGoAAAAmCAYAAAAsuw6AAAADcUlEQVR4Ae1ai5GEIAylLguiHqqhGYvJTRIDERVEWY69Y2du1NXN570kJHjGzM9EYCLQGYHVLWCMmX+/i0GZdW8NWA9I1PyMjIC3C7h1EjUyRwZgBbdMooYmCY0D8GCNBQ8zo4Ymi4haHKyTqKF5MrA6WCZRY5NEpQ+Jsn52fKNTBd7C4tZJ1EOiED/TI9Bx2K0lioyT4fAPls0a/7rNoEhUzbCr1zTuGPPDcjdHHmZE+rMa/+jZXh3zGyB5Brtu7bXTKSDfcF3y70k1euz3m12JUja+CYIahziz2w/tOf+6bhSUIiYHVimaeg7SnyCq6F/PseYKTK69cTc9bTa0E7jwnq1x+hkknIMCZXLkxwX7unTmAkXfqyWqhX9YLTQun/SPt4+Srk2cEPAZ0Aim3NevReRZAS8NgFgmcF/RgLXc0vJz+WZEZOaONUSJ/WLzN/h32JUIUaHmAnasrv6n2SQgCzEyd9QALDLwGOyUEeH0eLQ5/O6lf0SukiG2tfJP5IUjkaAUiiKJNgIFB7qKFjRmz3GTl0lX2Ymyk4wOxlWc3CW8nX/nVeBT/hmMjF2dxQVyW0MEJ6zFNWBeRRvKw0zTsuhaBYrorD3eJqqFf5km4lP+EXA7ouiVR4wWrt+xhBBpSTOwy77Cuy29AEsZQv2oR+SUdJyReJuojH+SbVI9wnUSSFdlHe0q+RdkbhUqXCc6Dj6iUgFIblJUhJofSUKh3gOQodbSRi54t3sznMsmMUrrY1JM2Cu7o0Ps1EeWHW3V99LzK/9W58BToMVAXZ3d+5cJxDv+3dGR2kvXCJQG7vSh5EuqwxfryhN5iXi6zOk4e77ldxSImOXgwSWb1RSIF77X2JDTcSqnZlfCOwcr1edlW8dWcC6+HmnhREnHqRONv5Sq4G1sekRFs0DcdtzPdIiucOQ14mhMeECdyHoijQCXrHulRonJnvbQkTVgu8md27HScGm7h1dJz5UOnpeSbq6l4pJh33CfshkL3sVyQGtbadEvOJrVQdG/YLmKizbKI6Ia1NuCbV9xO2SzOWZSKwdu66Daq7KK0u9lhLRyYspRCARGtyyaRClwRjvVixhmmB52R7P139vDHZsF9+B/Jf49eD0B4G6P3zXVDrs97Zy6ZHNUNRYTlEER4Mai7cA6qKvTrInARGAiMBEYF4EftQc0pQlf4MAAAAAASUVORK5CYII=)"
      ],
      "id": "MyvGL9BFQ5T9"
    },
    {
      "cell_type": "markdown",
      "metadata": {
        "id": "S9Bd6iFrQ68E"
      },
      "source": [
        "Since our sample sizes are sufficiently large, we can use the above theorem to compare our population means. The theorem requires that the population standard deviations be known, and in our case they can be calculated easily. If the sample sizes were smaller and/or the variance wasn't known, we would have used t-test. Though, for this example, we employ z-test."
      ],
      "id": "S9Bd6iFrQ68E"
    },
    {
      "cell_type": "markdown",
      "metadata": {
        "id": "MPoAcVJYSAEV"
      },
      "source": [
        "We start off by reading the file and preparing the dataset:"
      ],
      "id": "MPoAcVJYSAEV"
    },
    {
      "cell_type": "code",
      "metadata": {
        "id": "8US2uSCzvT3I"
      },
      "source": [
        "# Read the csv file\n",
        "if os.path.exists(\"Georgiapeaches.csv\"): \n",
        "  georgia = pd.read_csv(\"Georgiapeaches.csv\")\n",
        "if os.path.exists(\"Yangshanpeaches.csv\"):\n",
        "  yangshan = pd.read_csv(\"Yangshanpeaches.csv\")"
      ],
      "id": "8US2uSCzvT3I",
      "execution_count": null,
      "outputs": []
    },
    {
      "cell_type": "code",
      "metadata": {
        "id": "kGkPR6pavqIs"
      },
      "source": [
        "# Prepare data\n",
        "x = georgia['Yield per investment (in kilograms per Martian dollar)'].to_numpy()\n",
        "y = yangshan['Yield per investment (in kilograms per Martian dollar)'].to_numpy()"
      ],
      "id": "kGkPR6pavqIs",
      "execution_count": null,
      "outputs": []
    },
    {
      "cell_type": "markdown",
      "metadata": {
        "id": "u_Tp9triSWIa"
      },
      "source": [
        "Now we set the null and alternative hypothesis.\n",
        "\n",
        "$H_0:  μ_x = μ_y $ \n",
        "\n",
        "against the alternative one:\n",
        "\n",
        "$H_1: μ_x \\neq μ_y $ "
      ],
      "id": "u_Tp9triSWIa"
    },
    {
      "cell_type": "markdown",
      "metadata": {
        "id": "tY2f7sxJS-CE"
      },
      "source": [
        "The inequality indicates a two-tailed test. It is now time to calculate the z-score in order to find the difference between the sample means based on a normal population with a known standard deviation. Our formula is as following:"
      ],
      "id": "tY2f7sxJS-CE"
    },
    {
      "cell_type": "markdown",
      "metadata": {
        "id": "j2zYoAT6UobQ"
      },
      "source": [
        "![image.png](data:image/png;base64,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)"
      ],
      "id": "j2zYoAT6UobQ"
    },
    {
      "cell_type": "markdown",
      "metadata": {
        "id": "CNZkVYrLUpg4"
      },
      "source": [
        "Where $x̄_1$ and $x̄_2$ are means of the populations and Δ is the difference between the means. Our null hypothesis suggests that this difference is 0. \n",
        "\n",
        "We now prepare the variables to put into the equation:"
      ],
      "id": "CNZkVYrLUpg4"
    },
    {
      "cell_type": "code",
      "metadata": {
        "id": "b9wo_dc-st5U"
      },
      "source": [
        "mean_x = np.mean(x)\n",
        "mean_y = np.mean(y)\n",
        "\n",
        "sdx = np.std(x)\n",
        "sdy = np.std(y)\n",
        "\n",
        "n1 = x.size\n",
        "n2 = y.size\n",
        "\n",
        "#this is a helper variable to make the calculation cleaner\n",
        "i = (np.square(sdx) / n1) + (np.square(sdy) / n2)"
      ],
      "id": "b9wo_dc-st5U",
      "execution_count": null,
      "outputs": []
    },
    {
      "cell_type": "markdown",
      "metadata": {
        "id": "LfTwcKIFVSFM"
      },
      "source": [
        "Since we have everything ready, we can now plug the variables into the equation:"
      ],
      "id": "LfTwcKIFVSFM"
    },
    {
      "cell_type": "code",
      "metadata": {
        "colab": {
          "base_uri": "https://localhost:8080/"
        },
        "id": "icYPNhe1VQ4i",
        "outputId": "f787aabe-35f5-4852-9a61-c690a5dfd992"
      },
      "source": [
        "#calculating the test statistic\n",
        "\n",
        "z = (mean_x - mean_y) / np.sqrt(i)\n",
        "print (z)"
      ],
      "id": "icYPNhe1VQ4i",
      "execution_count": null,
      "outputs": [
        {
          "output_type": "stream",
          "text": [
            "-0.6346211020598123\n"
          ],
          "name": "stdout"
        }
      ]
    },
    {
      "cell_type": "markdown",
      "metadata": {
        "id": "AxnK1ZHjUDHz"
      },
      "source": [
        "Our z‐value is negative because the (larger) mean for Yangshan peaches was subtracted from the (smaller) mean for Georgia peaches. But since the hypothesized difference between the populations is 0, (meaning the order of the samples in this computation is arbitrary) the equation could just as well have been the other way, in which case z would be 0.6346 instead of –0.6346. An extreme z‐score in either tail of the distribution (positive or negative) would lead to rejection of the null hypothesis nevertheless."
      ],
      "id": "AxnK1ZHjUDHz"
    },
    {
      "cell_type": "markdown",
      "metadata": {
        "id": "UUPbZKqNVr2n"
      },
      "source": [
        "**P-value**\n",
        "\n",
        "The area of the standard normal curve corresponding to a z‐score of –0.6346 is 0.26435. Because this test is two‐tailed, that figure is doubled to yield a probability of 0.5287 that the population means are the same."
      ],
      "id": "UUPbZKqNVr2n"
    },
    {
      "cell_type": "markdown",
      "metadata": {
        "id": "holrr-3PxrrO"
      },
      "source": [
        "**Confidence Intervals**\n",
        "Since both sample sizes are greater than 30, we can use the z-table:"
      ],
      "id": "holrr-3PxrrO"
    },
    {
      "cell_type": "markdown",
      "metadata": {
        "id": "pTOr915vXqsv"
      },
      "source": [
        "![image.png](data:image/png;base64,iVBORw0KGgoAAAANSUhEUgAAAMIAAAAkCAYAAADb/OWuAAAEdklEQVR4Ae1YW04kMQycM3EV4AScgH++kbgH4hT8cwOu0ytL1KoonIczSU/PJC1Fdhy7XHZiDbunbX2rA9u2nU6nudd6BasD1gEbhJm/uauf+eal9jUI0pC1nbMDaxDmvPdVNXVg9iGwVqw/jehBzKquQViDMOvb/1V3yyC0xPxKOngT5bd+EQZfyDXAhx/Nz3+1HrU2qydcU6qYKFAK58j2GWqs6X9LH1piarj08onyc38RGMT00upFvganxIW51+LV+N2yT7Rn1ouWmD17GOVXHIQ9yV8iV7Rhe3M0fljI3ZtzC15LDPjvIaP8/gxCFGCPokbnaKn5/f19e35+HkpNedkeq1dizVGL2xpXi3+uX5TfGoTGn3kbhKenp3PvKxvvXaZny4IUDlvxWuMKdLodR/mtQViD0PT4og+tlOTz83Oz1euL8vs1CF6w2dTu2XoVUMLxcnu2Eo6ea416rvvoLwI4qlRc3Ud5aXxp34rfGpfiY/201euL8isOAogBGBL2S0nwgDyXRxQnMggetmdL1RDxTWGk7C3YFoOVwo3aew4CuEVqCw1CLXCtX7RZ7I9i2ebp8Ctxyp2/vb1tuh4fH7e7u7s/dvMrfblcqdiWmBQW20fhco4avecg1ORTn+pBsMCapplPye/h4WGrXUqY96U8eq77CBb7mh75ReDYHAf28/RzY714z+blHm27uUGwhu3V3GienH/uzHsELYMQyeH5ejaPm2ezWI3XvRc3wvb19bXpenl52Wyp/fv7ewSFP5jVvwheI/+g/Rj2aHCED3jmeOXOEM8yOghRfM/fsxkns+OMdebr2RHDftDhf64EHsvX19dN1/39/WZL7R8fHxz6Xz+XF+IBWDUIFoQPOiTsLHNn7NeqMz50yBTmueeKGxkEL7dnQw47w2IbdE+W/PXcMMx2lO/QfxqlmldqYOm8tfmtfGouPcdZ/6Fs+9p/LIOzylwPmAviSv4c49Xr4WhMLsfos0MPQmvxR2qw9yi8uo7G2eOYsnncUza2s57C3st+qEGwons0pwdGrwuo4VLj04vPCBzlr3vkNDufsQ6fS8k1CAM7rxete6RO2XF+ZKncdc/c7YzPWWe/S+g3Nwho9hGazFyge5d8BK4erxob6oLMxbDPNdecq7H1zP1vg5madO21RvibL/whSw9HY3hfit3jnPlANxn93IgWoGjio/hfc61R7uaPGMiae4CvSo7FGdv20pFbJfKbHQs2le4gmBNANeCW9tdcIy42UgNiIvcLfEgvlnH3fh/gBan82K5nzDU5COy09NvoAD9YfSCpCjnGfFJxKXsKt5e9lh/ypXiuQUCHJpD8aFIPQtugfrqHf8qO81FS8+pe86bO1yBop258bw8Bq1SqPhrsITnes/H5CF1zYg+pOVN281uDoN268b09htyD4PLVLxervowzStecOX7GQf2Z1xoE7sYEeumxtLYg98haMXvGlfitQejZ7SvAmnEQeAhY5+tag8DdmEAfMQjATD2yS7aVuUH3+PwDwc6660EsfRIAAAAASUVORK5CYII=)"
      ],
      "id": "pTOr915vXqsv"
    },
    {
      "cell_type": "markdown",
      "metadata": {
        "id": "_YVGqStMXtAf"
      },
      "source": [
        "And calculate the confidence intervals accordingly. For the sake of simplicity, we will use scipy's stats library and calculate each confidence interval automatically:"
      ],
      "id": "_YVGqStMXtAf"
    },
    {
      "cell_type": "code",
      "metadata": {
        "id": "vO8J1_WS0p32"
      },
      "source": [
        "import scipy.stats as st\n",
        "from scipy.stats import ttest_ind, ttest_ind_from_stats"
      ],
      "id": "vO8J1_WS0p32",
      "execution_count": null,
      "outputs": []
    },
    {
      "cell_type": "code",
      "metadata": {
        "id": "eJLoBeRKzkwb",
        "colab": {
          "base_uri": "https://localhost:8080/"
        },
        "outputId": "5b87c2b8-af49-4d5b-89d3-cc275c1702b5"
      },
      "source": [
        "# 90%\n",
        "ci_x1 = st.t.interval(0.90, n1-1, loc=mean_x, scale=st.sem(x))\n",
        "ci_y1 = st.t.interval(0.90, n2-1, loc=mean_y, scale=st.sem(y))\n",
        "print (\"The 90% confidence interval for Georgian peaches:\", ci_x1)\n",
        "print (\"The 90% confidence interval for Yangshan peaches:\", ci_y1)"
      ],
      "id": "eJLoBeRKzkwb",
      "execution_count": null,
      "outputs": [
        {
          "output_type": "stream",
          "text": [
            "The 90% confidence interval for Georgian peaches: (1.919798259712307, 2.022408940287693)\n",
            "The 90% confidence interval for Yangshan peaches: (1.956436345407627, 2.0355929879257064)\n"
          ],
          "name": "stdout"
        }
      ]
    },
    {
      "cell_type": "code",
      "metadata": {
        "id": "tZgSUx8K1SW9",
        "colab": {
          "base_uri": "https://localhost:8080/"
        },
        "outputId": "4df93a73-9665-4c48-9b12-43a491c2e05e"
      },
      "source": [
        "# 95%\n",
        "ci_x2 = st.t.interval(0.95, n1-1, loc=mean_x, scale=st.sem(x))\n",
        "ci_y2 = st.t.interval(0.95, n2-1, loc=mean_y, scale=st.sem(y))\n",
        "print (\"The 95% confidence interval for Georgian peaches:\", ci_x2)\n",
        "print (\"The 95% confidence interval for Yangshan peaches:\", ci_y2)"
      ],
      "id": "tZgSUx8K1SW9",
      "execution_count": null,
      "outputs": [
        {
          "output_type": "stream",
          "text": [
            "The 95% confidence interval for Georgian peaches: (1.9099346481482304, 2.0322725518517695)\n",
            "The 95% confidence interval for Yangshan peaches: (1.9488092311387788, 2.0432201021945544)\n"
          ],
          "name": "stdout"
        }
      ]
    },
    {
      "cell_type": "code",
      "metadata": {
        "id": "9rD6aEkM1cIq",
        "colab": {
          "base_uri": "https://localhost:8080/"
        },
        "outputId": "e1be1761-f1c1-44be-bee7-32fa0d2ff06b"
      },
      "source": [
        "\n",
        "# 99%\n",
        "ci_x3 = st.t.interval(0.99, n1-1, loc=mean_x, scale=st.sem(x))\n",
        "ci_y3 = st.t.interval(0.99, n2-1, loc=mean_y, scale=st.sem(y))\n",
        "print (\"The 99% confidence interval for Georgian peaches:\", ci_x3)\n",
        "print (\"The 99% confidence interval for Yangshan peaches:\", ci_y3)"
      ],
      "id": "9rD6aEkM1cIq",
      "execution_count": null,
      "outputs": [
        {
          "output_type": "stream",
          "text": [
            "The 99% confidence interval for Georgian peaches: (1.8906010935550766, 2.051606106444923)\n",
            "The 99% confidence interval for Yangshan peaches: (1.9338305115296268, 2.0581988218037064)\n"
          ],
          "name": "stdout"
        }
      ]
    },
    {
      "cell_type": "markdown",
      "metadata": {
        "id": "zPtruisCV2Pd"
      },
      "source": [
        "If our test had been conducted at a pre‐specified significance level of α < 0.05, the null hypothesis that assumed the two means as equal could not be rejected due to the fact that our p-value was greater than 0.05, which is the least strict level. At none of the levels our test would result in the rejection of the null hypothesis, therefore there is not enough evidence to suggest that these two types do not have same yields. \n",
        "\n",
        "We suggest growing both to offer variety to Martian consumers."
      ],
      "id": "zPtruisCV2Pd"
    }
  ]
}